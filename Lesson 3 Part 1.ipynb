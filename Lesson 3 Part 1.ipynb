{
 "cells": [
  {
   "cell_type": "markdown",
   "metadata": {},
   "source": [
    "# User Inputs"
   ]
  },
  {
   "cell_type": "code",
   "execution_count": 16,
   "metadata": {
    "scrolled": true
   },
   "outputs": [
    {
     "name": "stdout",
     "output_type": "stream",
     "text": [
      "Enter a small int:\n",
      "6\n",
      "The small int is 6!\n"
     ]
    }
   ],
   "source": [
    "print('Enter a small int:')\n",
    "small_int = input()\n",
    "\n",
    "print('The small int is ' + small_int + '!')"
   ]
  },
  {
   "cell_type": "markdown",
   "metadata": {},
   "source": [
    "."
   ]
  },
  {
   "cell_type": "code",
   "execution_count": 17,
   "metadata": {},
   "outputs": [
    {
     "name": "stdout",
     "output_type": "stream",
     "text": [
      "Enter the student name: j\n",
      "Hi j!\n"
     ]
    }
   ],
   "source": [
    "student_name = input('Enter the student name: ')\n",
    "print('Hi ' + student_name + '!')"
   ]
  },
  {
   "cell_type": "markdown",
   "metadata": {},
   "source": [
    "# User Inputs for If/Else statements"
   ]
  },
  {
   "cell_type": "code",
   "execution_count": 19,
   "metadata": {},
   "outputs": [
    {
     "name": "stdout",
     "output_type": "stream",
     "text": [
      "Enter \"c\" for a grilled cheese sandwich or \"v\" for a veggie sandwichv\n",
      "Here is your Veggie Sandwich\n"
     ]
    }
   ],
   "source": [
    "sandwich_type = input('Enter \"c\" for a grilled cheese sandwich or \"v\" for a veggie sandwich')\n",
    "\n",
    "if sandwich_type.lower() == 'c':\n",
    "    cheese_type = input('Enter \"c\" for Cheddar Cheese or \"p\" for Pepper Jack Cheese:')\n",
    "    \n",
    "    if cheese_type.lower() == 'c':\n",
    "        print('Here is your Cheddar Cheese Sandwich')\n",
    "    else:\n",
    "        print('Here is your Pepper Jack Cheese Sandwich')\n",
    "        \n",
    "else:\n",
    "    print(\"Here is your Veggie Sandwich\")"
   ]
  },
  {
   "cell_type": "markdown",
   "metadata": {},
   "source": [
    "# User Inputs for While True Loops"
   ]
  },
  {
   "cell_type": "code",
   "execution_count": 20,
   "metadata": {},
   "outputs": [
    {
     "name": "stdout",
     "output_type": "stream",
     "text": [
      "Guess the number 1 to 5: 4\n",
      "4 is incorrect\n",
      "\n",
      "Guess the number 1 to 5: 5\n",
      "Yes 5 is correct!\n",
      "\n"
     ]
    }
   ],
   "source": [
    "number_guess = \"0\"\n",
    "secret_number = \"5\"\n",
    "\n",
    "while True:\n",
    "    number_guess = input('Guess the number 1 to 5: ')\n",
    "    if number_guess == secret_number:\n",
    "        print('Yes', number_guess, 'is correct!\\n')\n",
    "        break\n",
    "        \n",
    "    else:\n",
    "        print(number_guess, 'is incorrect\\n')"
   ]
  },
  {
   "cell_type": "markdown",
   "metadata": {},
   "source": [
    "# Combining: Boolean String Test Methods, If/Else Statements, and User Inputs\n",
    "\n",
    "String Test Method Examples:\n",
    ".isalpha()\n",
    ".isalnum()\n",
    ".istitle()\n",
    ".isdigit()\n",
    ".islower()\n",
    ".startswith()\n"
   ]
  },
  {
   "cell_type": "markdown",
   "metadata": {},
   "source": [
    "Example 1"
   ]
  },
  {
   "cell_type": "code",
   "execution_count": 22,
   "metadata": {},
   "outputs": [
    {
     "name": "stdout",
     "output_type": "stream",
     "text": [
      "Enter title of your favorite book:Harry Potter\n",
      "Harry Potter - nice capitalization in that title!\n"
     ]
    }
   ],
   "source": [
    "favorite_book = input('Enter title of your favorite book:')\n",
    "\n",
    "if favorite_book.istitle():\n",
    "    print(favorite_book, \"- nice capitalization in that title!\")\n",
    "else:\n",
    "    print(favorite_book, \"- Tip capitalize each word in book titles.\")"
   ]
  },
  {
   "cell_type": "markdown",
   "metadata": {},
   "source": [
    "Example 2 - Note: .isdigit() does not include negative numbers)"
   ]
  },
  {
   "cell_type": "code",
   "execution_count": 24,
   "metadata": {},
   "outputs": [
    {
     "name": "stdout",
     "output_type": "stream",
     "text": [
      "Enter a positive integer number5\n",
      "5 is a positive integer!\n"
     ]
    }
   ],
   "source": [
    "a_number = input(\"Enter a positive integer number\")\n",
    "\n",
    "if a_number.isdigit():\n",
    "    print(a_number, 'is a positive integer!')\n",
    "    \n",
    "else:\n",
    "    print(a_number, 'is a not a positive integer!')"
   ]
  },
  {
   "cell_type": "markdown",
   "metadata": {},
   "source": [
    "Example 3 (Complex)"
   ]
  },
  {
   "cell_type": "code",
   "execution_count": 29,
   "metadata": {},
   "outputs": [
    {
     "name": "stdout",
     "output_type": "stream",
     "text": [
      "Enter a positive integer number: 5\n",
      "5 is a positive integer!\n"
     ]
    }
   ],
   "source": [
    "a_number = input(\"Enter a positive integer number: \")\n",
    "\n",
    "if a_number.isdigit():\n",
    "    print(a_number, 'is a positive integer!')\n",
    "    \n",
    "else:\n",
    "    print(a_number, 'is a not a positive integer!')\n",
    "    \n",
    "if a_number.isalpha():\n",
    "    print(a_number, 'is more like a word, not an integer')\n",
    "    \n",
    "else:\n",
    "    pass"
   ]
  },
  {
   "cell_type": "markdown",
   "metadata": {},
   "source": [
    "# Escape sequences all start with a backslash (\\)\n",
    "\n",
    "\"\\n\" = Return or New line\n",
    "\n",
    "\"\\t\" = Tab\n"
   ]
  },
  {
   "cell_type": "markdown",
   "metadata": {},
   "source": [
    "Using \"\\n\""
   ]
  },
  {
   "cell_type": "code",
   "execution_count": 30,
   "metadata": {},
   "outputs": [
    {
     "name": "stdout",
     "output_type": "stream",
     "text": [
      "Hello World!\n",
      "I am formatting this with an escape sequence\n"
     ]
    }
   ],
   "source": [
    "print('Hello World!\\nI am formatting this with an escape sequence')"
   ]
  },
  {
   "cell_type": "markdown",
   "metadata": {},
   "source": [
    "Using \"\\t\""
   ]
  },
  {
   "cell_type": "code",
   "execution_count": 5,
   "metadata": {},
   "outputs": [
    {
     "name": "stdout",
     "output_type": "stream",
     "text": [
      "STUDENT NAME\t\tAGE\n",
      "Jack Horan \t\t17\n"
     ]
    }
   ],
   "source": [
    "student_age = 17\n",
    "student_name = 'Jack Horan'\n",
    "print('STUDENT NAME\\t\\tAGE')\n",
    "print(student_name,'\\t\\t' + str(student_age))"
   ]
  },
  {
   "cell_type": "markdown",
   "metadata": {},
   "source": [
    "# Multiparameter Functions (Review)"
   ]
  },
  {
   "cell_type": "code",
   "execution_count": 31,
   "metadata": {},
   "outputs": [
    {
     "name": "stdout",
     "output_type": "stream",
     "text": [
      "SCHEDULE: [1st] Mathematics, [2nd] History\n"
     ]
    }
   ],
   "source": [
    "def make_schedule(period1, period2):\n",
    "    schedule = (\"[1st] \" + period1.title() + \", [2nd] \" +period2.title())\n",
    "    return schedule\n",
    "\n",
    "student_schedule = make_schedule('mathematics', 'history')\n",
    "\n",
    "print('SCHEDULE:' , student_schedule)"
   ]
  },
  {
   "cell_type": "code",
   "execution_count": 32,
   "metadata": {},
   "outputs": [
    {
     "name": "stdout",
     "output_type": "stream",
     "text": [
      "Student: Jack Horan\n",
      "Age: 23\n",
      "School: Marin Catholic\n"
     ]
    }
   ],
   "source": [
    "def format_info(name, age, school):\n",
    "    return 'Student: '+ name + '\\nAge: ' + str(age) + '\\nSchool: ' + school\n",
    "\n",
    "#the \"\\n\" makes a new line\n",
    "\n",
    "print(format_info(\"Jack Horan\", 23, \"Marin Catholic\"))"
   ]
  },
  {
   "cell_type": "code",
   "execution_count": null,
   "metadata": {},
   "outputs": [],
   "source": []
  }
 ],
 "metadata": {
  "kernelspec": {
   "display_name": "Python 3",
   "language": "python",
   "name": "python3"
  },
  "language_info": {
   "codemirror_mode": {
    "name": "ipython",
    "version": 3
   },
   "file_extension": ".py",
   "mimetype": "text/x-python",
   "name": "python",
   "nbconvert_exporter": "python",
   "pygments_lexer": "ipython3",
   "version": "3.7.6"
  }
 },
 "nbformat": 4,
 "nbformat_minor": 4
}
