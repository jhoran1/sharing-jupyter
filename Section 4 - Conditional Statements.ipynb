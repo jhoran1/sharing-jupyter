{
 "cells": [
  {
   "cell_type": "markdown",
   "metadata": {},
   "source": [
    "# Lesson 4"
   ]
  },
  {
   "cell_type": "markdown",
   "metadata": {},
   "source": [
    "The IF Statement"
   ]
  },
  {
   "cell_type": "code",
   "execution_count": 2,
   "metadata": {},
   "outputs": [
    {
     "name": "stdout",
     "output_type": "stream",
     "text": [
      "Correct, these are equal\n"
     ]
    }
   ],
   "source": [
    "if 5 == 15 / 3:\n",
    "    print('Correct, these are equal')"
   ]
  },
  {
   "cell_type": "code",
   "execution_count": 3,
   "metadata": {},
   "outputs": [
    {
     "name": "stdout",
     "output_type": "stream",
     "text": [
      "Correct, these do not equal one another\n"
     ]
    }
   ],
   "source": [
    "if 5 != 15*3:\n",
    "    print('Correct, these do not equal one another')"
   ]
  },
  {
   "cell_type": "markdown",
   "metadata": {},
   "source": [
    "Adding an Else Statement"
   ]
  },
  {
   "cell_type": "code",
   "execution_count": 4,
   "metadata": {},
   "outputs": [],
   "source": [
    "#Let's start with a little more complex if statement"
   ]
  },
  {
   "cell_type": "code",
   "execution_count": 7,
   "metadata": {},
   "outputs": [
    {
     "name": "stdout",
     "output_type": "stream",
     "text": [
      "Upper Outlier\n"
     ]
    }
   ],
   "source": [
    "x = 5\n",
    "\n",
    "if x > 3:\n",
    "    print('Upper Outlier')\n",
    "if x < 3:\n",
    "    print('Lower Outlier')"
   ]
  },
  {
   "cell_type": "code",
   "execution_count": 6,
   "metadata": {},
   "outputs": [],
   "source": [
    "#Now let's add an ELSE statement\n",
    "#I changed the value of x to 3 to show the effect of the ELSE statement"
   ]
  },
  {
   "cell_type": "code",
   "execution_count": 8,
   "metadata": {},
   "outputs": [
    {
     "name": "stdout",
     "output_type": "stream",
     "text": [
      "Average\n"
     ]
    }
   ],
   "source": [
    "x = 3\n",
    "\n",
    "if x > 3:\n",
    "    print('Upper Outlier')\n",
    "if x < 3:\n",
    "    print('Lower Outlier')\n",
    "else:\n",
    "    print('Average')"
   ]
  },
  {
   "cell_type": "code",
   "execution_count": 10,
   "metadata": {},
   "outputs": [],
   "source": [
    "#One more example"
   ]
  },
  {
   "cell_type": "code",
   "execution_count": 14,
   "metadata": {},
   "outputs": [
    {
     "name": "stdout",
     "output_type": "stream",
     "text": [
      "Jake\n"
     ]
    }
   ],
   "source": [
    "x = 1\n",
    "\n",
    "if x == 1:\n",
    "    print('Jake')\n",
    "elif x == 2:\n",
    "    print('Antoine')\n",
    "elif x == 3:\n",
    "    print('Jack')\n",
    "elif x == 4:\n",
    "    print('Andrew')\n",
    "elif x == 5:\n",
    "    print('Professor Nigro')\n",
    "else:\n",
    "    print(\"This student is not in the class\")"
   ]
  },
  {
   "cell_type": "markdown",
   "metadata": {},
   "source": [
    "Adding an ELIF Statement"
   ]
  },
  {
   "cell_type": "code",
   "execution_count": 12,
   "metadata": {},
   "outputs": [],
   "source": [
    "#Here we will define a function that will compare an input (y) to the\n",
    "#number 5"
   ]
  },
  {
   "cell_type": "code",
   "execution_count": 16,
   "metadata": {},
   "outputs": [
    {
     "name": "stdout",
     "output_type": "stream",
     "text": [
      "Greater\n"
     ]
    }
   ],
   "source": [
    "def compare_to_five(y):\n",
    "    if y > 5:\n",
    "        return 'Greater'\n",
    "    elif y < 5:\n",
    "        return 'Less'\n",
    "    else:\n",
    "        return 'Equal'\n",
    "    \n",
    "    \n",
    "print(compare_to_five(10))"
   ]
  },
  {
   "cell_type": "code",
   "execution_count": 14,
   "metadata": {},
   "outputs": [],
   "source": [
    "#Let's add another ELIF statement for fun. You can have an unlimited\n",
    "#amount of ELIF statements\n",
    "#IMPORTANT: Computers read codes from top to bottom, so it is important\n",
    "#to place the ELIF statement for 'negative' above the 'less' ELIF or else\n",
    "#the computer will spit out 'less' before it even gets to the 'negative' \n",
    "#ELIF"
   ]
  },
  {
   "cell_type": "code",
   "execution_count": 20,
   "metadata": {},
   "outputs": [
    {
     "name": "stdout",
     "output_type": "stream",
     "text": [
      "Less\n"
     ]
    }
   ],
   "source": [
    "def compare_to_five(y):\n",
    "    if y > 5:\n",
    "        return 'Greater'\n",
    "    elif y < 0:\n",
    "        return 'Negative'\n",
    "    elif y < 5:\n",
    "        return 'Less'\n",
    "    else:\n",
    "        return 'Equal'\n",
    "    \n",
    "print(compare_to_five(3))"
   ]
  },
  {
   "cell_type": "code",
   "execution_count": 21,
   "metadata": {},
   "outputs": [
    {
     "name": "stdout",
     "output_type": "stream",
     "text": [
      "Negative\n"
     ]
    }
   ],
   "source": [
    "print(compare_to_five(-1))"
   ]
  },
  {
   "cell_type": "code",
   "execution_count": 22,
   "metadata": {},
   "outputs": [
    {
     "name": "stdout",
     "output_type": "stream",
     "text": [
      "Less\n"
     ]
    }
   ],
   "source": [
    "print(compare_to_five(3))"
   ]
  },
  {
   "cell_type": "code",
   "execution_count": null,
   "metadata": {},
   "outputs": [],
   "source": []
  }
 ],
 "metadata": {
  "kernelspec": {
   "display_name": "Python 3",
   "language": "python",
   "name": "python3"
  },
  "language_info": {
   "codemirror_mode": {
    "name": "ipython",
    "version": 3
   },
   "file_extension": ".py",
   "mimetype": "text/x-python",
   "name": "python",
   "nbconvert_exporter": "python",
   "pygments_lexer": "ipython3",
   "version": "3.7.6"
  }
 },
 "nbformat": 4,
 "nbformat_minor": 4
}
